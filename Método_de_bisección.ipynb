{
  "nbformat": 4,
  "nbformat_minor": 0,
  "metadata": {
    "colab": {
      "name": " Método de bisección.ipynb",
      "provenance": []
    },
    "kernelspec": {
      "name": "python3",
      "display_name": "Python 3"
    }
  },
  "cells": [
    {
      "cell_type": "markdown",
      "metadata": {
        "id": "BwLpBd6ycin-"
      },
      "source": [
        "**Tarea_03 - Programa - Método de bisección**\n",
        "\n",
        "**Instrucciones**\n",
        "\n",
        "Tomando en cuenta lo realizado en clase, diseñar el código para el funcionamiento del método de la bisección, éste debe de estar en una función."
      ]
    },
    {
      "cell_type": "code",
      "metadata": {
        "id": "mUSvFFZAg2UT",
        "outputId": "ffdb98fc-d39c-4ec4-9fe4-b093786d0bbd",
        "colab": {
          "base_uri": "https://localhost:8080/",
          "height": 249
        }
      },
      "source": [
        "import numpy as np\n",
        "\n",
        "# INGRESO\n",
        "fx = lambda x: x**3 + 4*x**2 - 10 \n",
        "a = 1\n",
        "b = 2\n",
        "tolera = 0.0001\n",
        "\n",
        "tabla = []\n",
        "tramo = b-a\n",
        "\n",
        "fa = fx(a)\n",
        "fb = fx(b)\n",
        "i = 1\n",
        "while (tramo>tolera):\n",
        "    c = (a+b)/2\n",
        "    fc = fx(c)\n",
        "    tabla.append([i,a,c,b,fa,fc,fb,tramo])\n",
        "    i = i+1\n",
        "                 \n",
        "    cambia = np.sign(fa)*np.sign(fc)\n",
        "    if (cambia<0):\n",
        "        b = c\n",
        "        fb = fc\n",
        "    else:\n",
        "        a=c\n",
        "        fa = fc\n",
        "    tramo = b-a\n",
        "c = (a+b)/2\n",
        "fc = fx(c)\n",
        "tabla.append([i,a,c,b,fa,fc,fb,tramo])\n",
        "tabla = np.array(tabla)\n",
        "\n",
        "raiz = c\n",
        "\n",
        "# SALIDA\n",
        "np.set_printoptions(precision = 4)\n",
        "print('[ i, a, c, b, f(a), f(c), f(b), tramo]')\n",
        "# print(tabla)\n",
        "\n",
        "# Tabla con formato\n",
        "n=len(tabla)\n",
        "for i in range(0,n,1):\n",
        "    unafila = tabla[i]\n",
        "    formato = '{:.0f}'+' '+(len(unafila)-1)*'{:.3f} '\n",
        "    unafila = formato.format(*unafila)\n",
        "    print(unafila)\n",
        "    \n",
        "print('raiz: ',raiz)"
      ],
      "execution_count": 3,
      "outputs": [
        {
          "output_type": "stream",
          "text": [
            "[ i, a, c, b, f(a), f(c), f(b), tramo]\n",
            "1 1.000 1.500 2.000 -5.000 2.375 14.000 1.000 \n",
            "2 1.000 1.250 1.500 -5.000 -1.797 2.375 0.500 \n",
            "3 1.250 1.375 1.500 -1.797 0.162 2.375 0.250 \n",
            "4 1.250 1.312 1.375 -1.797 -0.848 0.162 0.125 \n",
            "5 1.312 1.344 1.375 -0.848 -0.351 0.162 0.062 \n",
            "6 1.344 1.359 1.375 -0.351 -0.096 0.162 0.031 \n",
            "7 1.359 1.367 1.375 -0.096 0.032 0.162 0.016 \n",
            "8 1.359 1.363 1.367 -0.096 -0.032 0.032 0.008 \n",
            "9 1.363 1.365 1.367 -0.032 0.000 0.032 0.004 \n",
            "10 1.363 1.364 1.365 -0.032 -0.016 0.000 0.002 \n",
            "11 1.364 1.365 1.365 -0.016 -0.008 0.000 0.001 \n",
            "raiz:  1.36474609375\n"
          ],
          "name": "stdout"
        }
      ]
    },
    {
      "cell_type": "code",
      "metadata": {
        "id": "lA12KU36hEQE",
        "outputId": "574793ba-d681-4c39-fabd-1ed6a7c69501",
        "colab": {
          "base_uri": "https://localhost:8080/",
          "height": 295
        }
      },
      "source": [
        "# GRAFICA\n",
        "import matplotlib.pyplot as plt\n",
        "\n",
        "xi = tabla[:,2]\n",
        "yi = tabla[:,5]\n",
        "\n",
        "orden = np.argsort(xi)\n",
        "xi = xi[orden]\n",
        "yi = yi[orden]\n",
        "\n",
        "plt.plot(xi,yi)\n",
        "plt.plot(xi,yi,'o')\n",
        "plt.axhline(0, color=\"black\")\n",
        "\n",
        "plt.xlabel('x')\n",
        "plt.ylabel('y')\n",
        "plt.title('Bisección en f(x)')\n",
        "plt.grid()\n",
        "plt.show()"
      ],
      "execution_count": 4,
      "outputs": [
        {
          "output_type": "display_data",
          "data": {
            "image/png": "[encoded data removed]",
            "text/plain": [
              "<Figure size 432x288 with 1 Axes>"
            ]
          },
          "metadata": {
            "tags": [],
            "needs_background": "light"
          }
        }
      ]
    }
  ]
}