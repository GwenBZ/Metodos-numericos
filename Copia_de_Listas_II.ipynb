{
  "nbformat": 4,
  "nbformat_minor": 0,
  "metadata": {
    "kernelspec": {
      "display_name": "Python 3",
      "language": "python",
      "name": "python3"
    },
    "language_info": {
      "codemirror_mode": {
        "name": "ipython",
        "version": 3
      },
      "file_extension": ".py",
      "mimetype": "text/x-python",
      "name": "python",
      "nbconvert_exporter": "python",
      "pygments_lexer": "ipython3",
      "version": "3.8.5"
    },
    "colab": {
      "name": "Copia de Listas_II.ipynb",
      "provenance": [],
      "include_colab_link": true
    }
  },
  "cells": [
    {
      "cell_type": "markdown",
      "metadata": {
        "id": "view-in-github",
        "colab_type": "text"
      },
      "source": [
        "<a href=\"https://colab.research.google.com/github/WendyGMB/Metodos-numericos/blob/master/Copia_de_Listas_II.ipynb\" target=\"_parent\"><img src=\"https://colab.research.google.com/assets/colab-badge.svg\" alt=\"Open In Colab\"/></a>"
      ]
    },
    {
      "cell_type": "markdown",
      "metadata": {
        "id": "XR9FbiMUydkb"
      },
      "source": [
        "# Listas - Segunda parte\n",
        "\n",
        "Coo se ha visto en otros notebooks de este curso, el ciclo for puede actuar a través de una lista, esto se hace através de iteradores en la siguiente celda se muestra un ejemplo"
      ]
    },
    {
      "cell_type": "code",
      "metadata": {
        "id": "12BS04b8ydks",
        "outputId": "2c205853-1cc2-44c3-81cc-79ef1d8d9740"
      },
      "source": [
        "# Celda 01\n",
        "\n",
        "colores = ['Amarillo','Cyan','Magenta','Blanco','Negro', 'Morado','Azul', 'Verde','Lila','Rojo']\n",
        "\n",
        "for color in colores:\n",
        "    print(color)"
      ],
      "execution_count": null,
      "outputs": [
        {
          "output_type": "stream",
          "text": [
            "Amarillo\n",
            "Cyan\n",
            "Magenta\n",
            "Blanco\n",
            "Negro\n",
            "Morado\n",
            "Azul\n",
            "Verde\n",
            "Lila\n",
            "Rojo\n"
          ],
          "name": "stdout"
        }
      ]
    },
    {
      "cell_type": "markdown",
      "metadata": {
        "id": "lBKlVepgydln"
      },
      "source": [
        "También se puede extraer cada elemento a través del índice de la lista esto se haría como se muestra a continuación "
      ]
    },
    {
      "cell_type": "code",
      "metadata": {
        "scrolled": true,
        "id": "YyH__dEnydl4",
        "outputId": "051d746c-98dd-486b-a0df-336e4408fb7a"
      },
      "source": [
        "# Celda 02\n",
        "\n",
        "colores = ['Amarillo','Cyan','Magenta','Blanco','Negro', 'Morado','Azul', 'Verde','Lila','Rojo']\n",
        "\n",
        "for index in range(len(colores)):\n",
        "    print(colores[index])"
      ],
      "execution_count": null,
      "outputs": [
        {
          "output_type": "stream",
          "text": [
            "Amarillo\n",
            "Cyan\n",
            "Magenta\n",
            "Blanco\n",
            "Negro\n",
            "Morado\n",
            "Azul\n",
            "Verde\n",
            "Lila\n",
            "Rojo\n"
          ],
          "name": "stdout"
        }
      ]
    },
    {
      "cell_type": "markdown",
      "metadata": {
        "id": "3jmJtKCWydmv"
      },
      "source": [
        "# Trabajando con partes de alguna lista\n",
        "\n",
        "Una característica importante de las listas es que éstas se pueden partir o extraer sólo una parte ellas para poder procesarlas de manera independiente, observe el siguiente código"
      ]
    },
    {
      "cell_type": "code",
      "metadata": {
        "id": "njyrzdo3ydnG",
        "outputId": "4c92f848-6bc2-4659-f8c6-351cff4b7f70"
      },
      "source": [
        "# Celda 03\n",
        "\n",
        "colores = ['Amarillo','Cyan','Magenta','Blanco','Negro', 'Morado','Azul', 'Verde','Lila','Rojo']\n",
        "\n",
        "colores_primarios = colores[0:3]\n",
        "\n",
        "colores_otros = colores[0:-3]\n",
        "\n",
        "print(colores_primarios)\n",
        "\n",
        "print(colores_otros)\n",
        "\n",
        "print(colores[-6])"
      ],
      "execution_count": null,
      "outputs": [
        {
          "output_type": "stream",
          "text": [
            "['Amarillo', 'Cyan', 'Magenta']\n",
            "['Amarillo', 'Cyan', 'Magenta', 'Blanco', 'Negro', 'Morado', 'Azul']\n",
            "Negro\n"
          ],
          "name": "stdout"
        }
      ]
    },
    {
      "cell_type": "markdown",
      "metadata": {
        "id": "F2C6wsAsydoT"
      },
      "source": [
        "Se pueden extraer partes de una no importando el subíndice, aunque si no hay valores dentro de los subíndices que ha puesto tendrá un lista vacía como resultado."
      ]
    },
    {
      "cell_type": "code",
      "metadata": {
        "id": "D8Xm95ObydoZ",
        "outputId": "e616533c-b687-4633-ba35-780b08016120"
      },
      "source": [
        "# Celda 04\n",
        "\n",
        "colores = ['Amarillo','Cyan','Magenta','Blanco','Negro', 'Morado','Azul', 'Verde','Lila','Rojo']\n",
        "\n",
        "otros_colores = colores[3:8]\n",
        "\n",
        "print(otros_colores)\n",
        "\n",
        "otros_colores = colores[8:10]\n",
        "\n",
        "print(otros_colores)\n"
      ],
      "execution_count": null,
      "outputs": [
        {
          "output_type": "stream",
          "text": [
            "['Blanco', 'Negro', 'Morado', 'Azul', 'Verde']\n",
            "['Lila', 'Rojo']\n"
          ],
          "name": "stdout"
        }
      ]
    },
    {
      "cell_type": "markdown",
      "metadata": {
        "id": "nqRvwVcBydo_"
      },
      "source": [
        "En caso que no se haya definido un índice inicial y no uno final, se tomara del elemento que se haya indicado hasta el final.  Tal como se muestra en la siguiente celda"
      ]
    },
    {
      "cell_type": "code",
      "metadata": {
        "id": "HotwTlMLydpG",
        "outputId": "4b742264-7933-4105-e397-0cb600218b44"
      },
      "source": [
        "# Celda 05\n",
        "\n",
        "colores = ['Amarillo','Cyan','Magenta','Blanco','Negro', 'Morado','Azul', 'Verde','Lila','Rojo']\n",
        "\n",
        "otros_colores = colores[3:]\n",
        "\n",
        "print(otros_colores)\n",
        "\n"
      ],
      "execution_count": null,
      "outputs": [
        {
          "output_type": "stream",
          "text": [
            "['Blanco', 'Negro', 'Morado', 'Azul', 'Verde', 'Lila', 'Rojo']\n"
          ],
          "name": "stdout"
        }
      ]
    },
    {
      "cell_type": "markdown",
      "metadata": {
        "id": "AIDEyUruydru"
      },
      "source": [
        "En caso que no se haya especificado índice inicial y sólo final tomará desde el inicio de la lista hasta la posición - 1 que haya asignado."
      ]
    },
    {
      "cell_type": "code",
      "metadata": {
        "id": "PBcbYJKDydr4",
        "outputId": "c03398aa-edc5-48eb-96c7-dc84c5184586"
      },
      "source": [
        "# Celda 06\n",
        "\n",
        "colores = ['Amarillo','Cyan','Magenta','Blanco','Negro', 'Morado','Azul', 'Verde','Lila','Rojo']\n",
        "\n",
        "otros_colores = colores[:5]\n",
        "\n",
        "print(otros_colores)"
      ],
      "execution_count": null,
      "outputs": [
        {
          "output_type": "stream",
          "text": [
            "['Amarillo', 'Cyan', 'Magenta', 'Blanco', 'Negro']\n"
          ],
          "name": "stdout"
        }
      ]
    },
    {
      "cell_type": "markdown",
      "metadata": {
        "id": "kxf-Ls-kydsq"
      },
      "source": [
        "Si no se han especificado ninguno de los dos índices se tomara toda la listo, esto es muy útil cuando se requiere copiar toda una lista"
      ]
    },
    {
      "cell_type": "markdown",
      "metadata": {
        "id": "MYrRCbPZydsx"
      },
      "source": [
        "## List comprehension"
      ]
    },
    {
      "cell_type": "markdown",
      "metadata": {
        "id": "-0l5a7slyds3"
      },
      "source": [
        "Ahora suponga que quiere definir una lista y después tomar cada elemento y elevarlo al cuadrado, uno de los enfoques sería, primero generar una lista o vector y después tomar cada elemento del vector y hacer la operación matemática, tal como se muestra en la siguiente celda"
      ]
    },
    {
      "cell_type": "code",
      "metadata": {
        "id": "4Gm_ANKlyds8",
        "outputId": "253fa743-35ea-405e-c004-978176a65775"
      },
      "source": [
        "# Celda 07\n",
        "\n",
        "x = list(range(0,11,1))\n",
        "y = []\n",
        "print(x)\n",
        "for value in x:\n",
        "    square = value**2\n",
        "    y.append(square)\n",
        "print(y)"
      ],
      "execution_count": null,
      "outputs": [
        {
          "output_type": "stream",
          "text": [
            "[0, 1, 2, 3, 4, 5, 6, 7, 8, 9, 10]\n",
            "[0, 1, 4, 9, 16, 25, 36, 49, 64, 81, 100]\n"
          ],
          "name": "stdout"
        }
      ]
    },
    {
      "cell_type": "markdown",
      "metadata": {
        "id": "YpjsC-aYydtg"
      },
      "source": [
        "La segunda opción es utilizar el enfoque que se llama `list comprehension`, el mismo código se muestra a continuación en la siguiente celda."
      ]
    },
    {
      "cell_type": "code",
      "metadata": {
        "id": "Xx4hPiQfydtn",
        "outputId": "4d58b495-31ea-400b-a2dd-1eccb0a93d8b"
      },
      "source": [
        "# Celda 08\n",
        "\n",
        "y = [value**2 for value in range(1,11,1)]\n",
        "print(y)"
      ],
      "execution_count": null,
      "outputs": [
        {
          "output_type": "stream",
          "text": [
            "[1, 4, 9, 16, 25, 36, 49, 64, 81, 100]\n"
          ],
          "name": "stdout"
        }
      ]
    },
    {
      "cell_type": "markdown",
      "metadata": {
        "id": "V4nliCxCyduC"
      },
      "source": [
        "# Utilizando las listas para poder  hacer asignaciones mútiples\n",
        "\n",
        "Considere el siguiente ejemplo \n"
      ]
    },
    {
      "cell_type": "code",
      "metadata": {
        "id": "SVJ5XfaryduL",
        "outputId": "83e16e0c-b32b-4d36-801f-1065f59617f3"
      },
      "source": [
        "# Celda 09\n",
        "\n",
        "valores = [4,8,16]\n",
        "\n",
        "numero, doble,cuadrado = valores\n",
        "\n",
        "print(numero)\n",
        "print(doble)\n",
        "print(cuadrado)"
      ],
      "execution_count": null,
      "outputs": [
        {
          "output_type": "stream",
          "text": [
            "4\n",
            "8\n",
            "16\n"
          ],
          "name": "stdout"
        }
      ]
    },
    {
      "cell_type": "markdown",
      "metadata": {
        "id": "fX23C5YDydui"
      },
      "source": [
        "Observe que se ha hecho una asignación triple, este tipo de situaciones son muy útiles al momento de poder hacer funciones en las que se requiere que regresen varios valores de forma mútliple.  Observe el siguiente código\n",
        " "
      ]
    },
    {
      "cell_type": "code",
      "metadata": {
        "id": "DCmoTetWydur",
        "outputId": "2806f4cf-8629-4332-81b8-19c4250b61d2"
      },
      "source": [
        "# Celda 10\n",
        "\n",
        "def calculos(valor):\n",
        "    cuadrado = valor**2\n",
        "    cubo = valor **3\n",
        "    raiz = valor**(1/2)\n",
        "    return [cuadrado, cubo, raiz]\n",
        "\n",
        "cuadrado, cubo, raiz = calculos(4)\n",
        "\n",
        "print(\"El cuadrado de 4 es: \", cuadrado)\n",
        "print(\"El cubo de 4 es: \",cubo)\n",
        "print(\"La raiz de 4 es: \", raiz)"
      ],
      "execution_count": null,
      "outputs": [
        {
          "output_type": "stream",
          "text": [
            "El cuadrado de 4 es:  16\n",
            "El cubo de 4 es:  64\n",
            "La raiz de 4 es:  2.0\n"
          ],
          "name": "stdout"
        }
      ]
    },
    {
      "cell_type": "markdown",
      "metadata": {
        "id": "80EwIy5yydvF"
      },
      "source": [
        "# Operadores extras y muy útiles en listas\n",
        "\n",
        "## max()\n",
        "La función `max()` regresa el valor máximo de una lista NUMERICA y de una lista que contiene texto regesará el valor que esté en el último lugar si se organiza la lista en orden alfabético "
      ]
    },
    {
      "cell_type": "code",
      "metadata": {
        "id": "sQGE6P7JydvL",
        "outputId": "da5db569-fff5-43af-8b66-d717d1fd6a2b"
      },
      "source": [
        "# Celda 11\n",
        "\n",
        "colores = ['Amarillo','Cyan','Magenta','Blanco','Negro', 'Morado','Azul', 'Verde','Lila','Rojo']\n",
        "\n",
        "print(max(colores))"
      ],
      "execution_count": null,
      "outputs": [
        {
          "output_type": "stream",
          "text": [
            "Verde\n"
          ],
          "name": "stdout"
        }
      ]
    },
    {
      "cell_type": "code",
      "metadata": {
        "id": "dZK967Mhydvh",
        "outputId": "0688c56b-2aaa-4ab3-91c9-69db51932494"
      },
      "source": [
        "# Celda 12\n",
        "\n",
        "valores = [ 1, 7, 9 , 92,2, -1, -38]\n",
        "print(max(valores))\n"
      ],
      "execution_count": null,
      "outputs": [
        {
          "output_type": "stream",
          "text": [
            "92\n"
          ],
          "name": "stdout"
        }
      ]
    },
    {
      "cell_type": "markdown",
      "metadata": {
        "id": "IJDKA-IAydwc"
      },
      "source": [
        "## min()\n",
        "El operador min regresa el valor mínimo  de una lista"
      ]
    },
    {
      "cell_type": "code",
      "metadata": {
        "id": "foj7QcW6ydwj",
        "outputId": "4c08cb15-769a-4fdf-fc38-c1eb360a0d95"
      },
      "source": [
        "# Celda 13\n",
        "\n",
        "colores = ['Amarillo','Cyan','Magenta','Blanco','Negro', 'Morado','Azul', 'Verde','Lila','Rojo']\n",
        "\n",
        "print(min(colores))"
      ],
      "execution_count": null,
      "outputs": [
        {
          "output_type": "stream",
          "text": [
            "Amarillo\n"
          ],
          "name": "stdout"
        }
      ]
    },
    {
      "cell_type": "code",
      "metadata": {
        "id": "wmSWzb5wydw7",
        "outputId": "96020841-ce03-4c24-cfc2-49bb0e58785b"
      },
      "source": [
        "# Celda 14\n",
        "\n",
        "valores = [ 1, 7, 9 , 92,2, -1, -38]\n",
        "print(min(valores))\n"
      ],
      "execution_count": null,
      "outputs": [
        {
          "output_type": "stream",
          "text": [
            "-38\n"
          ],
          "name": "stdout"
        }
      ]
    },
    {
      "cell_type": "markdown",
      "metadata": {
        "id": "uWKU6QnhydxU"
      },
      "source": [
        "## sum()\n",
        "Resgresa la suma de los elementos de una lista, **SOLO FUNCIONA CON LISTAS CUYOS ELEMENTOS SON NUMÉRICOS**\n",
        "\n"
      ]
    },
    {
      "cell_type": "code",
      "metadata": {
        "id": "m4_1nAlvydxY",
        "outputId": "5f79c3a1-58f1-45d6-80be-688563231e83"
      },
      "source": [
        "# Celda 15\n",
        "\n",
        "valores = [ 1, 7, 9 , 92,2, -1, -38]\n",
        "sum(valores)"
      ],
      "execution_count": null,
      "outputs": [
        {
          "output_type": "execute_result",
          "data": {
            "text/plain": [
              "72"
            ]
          },
          "metadata": {
            "tags": []
          },
          "execution_count": 30
        }
      ]
    },
    {
      "cell_type": "markdown",
      "metadata": {
        "id": "saOee1ILydxz"
      },
      "source": [
        "## `in` y `not in`\n",
        "Estos operadores nos ayudan a verficar si algún elemento está dentro de la lista o no, observe el comportamiento en la siguient celda"
      ]
    },
    {
      "cell_type": "code",
      "metadata": {
        "id": "zjrrj7Ksydx4",
        "outputId": "500b2a8c-7fc1-48e9-ab8e-6de78572123d"
      },
      "source": [
        "# Celda 16\n",
        "\n",
        "colores = ['Amarillo','Cyan','Magenta','Blanco','Negro', 'Morado','Azul', 'Verde','Lila','Rojo']\n",
        "\n",
        "print('beige' in colores)"
      ],
      "execution_count": null,
      "outputs": [
        {
          "output_type": "stream",
          "text": [
            "False\n"
          ],
          "name": "stdout"
        }
      ]
    },
    {
      "cell_type": "code",
      "metadata": {
        "id": "RXmHimNnydyK",
        "outputId": "c31a8c9d-f589-43d1-e577-1d19d5084940"
      },
      "source": [
        "# Celda 17\n",
        "\n",
        "colores = ['Amarillo','Cyan','Magenta','Blanco','Negro', 'Morado','Azul', 'Verde','Lila','Rojo']\n",
        "\n",
        "print('beige' not in colores)"
      ],
      "execution_count": null,
      "outputs": [
        {
          "output_type": "stream",
          "text": [
            "True\n"
          ],
          "name": "stdout"
        }
      ]
    },
    {
      "cell_type": "markdown",
      "metadata": {
        "id": "XYsJMaw7ydyc"
      },
      "source": [
        "## index \n",
        "\n",
        "Este método de las listas ayuda regresa el índice de un elemento si es que el valor de dicho elemento está dentro de la lista, observe el siguiente ejemplo"
      ]
    },
    {
      "cell_type": "code",
      "metadata": {
        "id": "X0IOWB33ydyj",
        "outputId": "a2d7d36a-d041-4fba-88e4-856a0da520e2"
      },
      "source": [
        "# Celda 18\n",
        "\n",
        "colores = ['Amarillo','Cyan','Magenta','Blanco','Negro', 'Morado','Azul', 'Verde','Lila','Rojo']\n",
        "\n",
        "print(colores.index('Magenta'))\n",
        "\n",
        "print(colores.index('Beige'))\n"
      ],
      "execution_count": null,
      "outputs": [
        {
          "output_type": "stream",
          "text": [
            "2\n"
          ],
          "name": "stdout"
        },
        {
          "output_type": "error",
          "ename": "ValueError",
          "evalue": "'Beige' is not in list",
          "traceback": [
            "\u001b[0;31m---------------------------------------------------------------------------\u001b[0m",
            "\u001b[0;31mValueError\u001b[0m                                Traceback (most recent call last)",
            "\u001b[0;32m<ipython-input-16-4efb2f9e4292>\u001b[0m in \u001b[0;36m<module>\u001b[0;34m\u001b[0m\n\u001b[1;32m      5\u001b[0m \u001b[0mprint\u001b[0m\u001b[0;34m(\u001b[0m\u001b[0mcolores\u001b[0m\u001b[0;34m.\u001b[0m\u001b[0mindex\u001b[0m\u001b[0;34m(\u001b[0m\u001b[0;34m'Magenta'\u001b[0m\u001b[0;34m)\u001b[0m\u001b[0;34m)\u001b[0m\u001b[0;34m\u001b[0m\u001b[0;34m\u001b[0m\u001b[0m\n\u001b[1;32m      6\u001b[0m \u001b[0;34m\u001b[0m\u001b[0m\n\u001b[0;32m----> 7\u001b[0;31m \u001b[0mprint\u001b[0m\u001b[0;34m(\u001b[0m\u001b[0mcolores\u001b[0m\u001b[0;34m.\u001b[0m\u001b[0mindex\u001b[0m\u001b[0;34m(\u001b[0m\u001b[0;34m'Beige'\u001b[0m\u001b[0;34m)\u001b[0m\u001b[0;34m)\u001b[0m\u001b[0;34m\u001b[0m\u001b[0;34m\u001b[0m\u001b[0m\n\u001b[0m",
            "\u001b[0;31mValueError\u001b[0m: 'Beige' is not in list"
          ]
        }
      ]
    },
    {
      "cell_type": "markdown",
      "metadata": {
        "id": "3AthuFBrydyz"
      },
      "source": [
        "# Estructuras de datos mutables e inmutables\n",
        "\n",
        "Las listas no son el único tipo de estructuras de datos, existen las cadenas de caracteres o strings, entre otras estructuras, sin embargo, se pueden clasificar en dos grandes grupos, estructuras mutables e inmutables.\n",
        "\n",
        "Una lista es una estructura mutable, ua que aunque se haya declarado e inicializado los elementos,  éstos pueden cambiar uno por uno o toda la lista, esta característica es propia de de las **ESTRUCTURAS DE DATOS MUTABLES**. Se han visto varios ejemplos a lo largo de éste notebook y otros. \n",
        "\n",
        "\n",
        "Una **Estructura de datos inmutable** es aquella en la que una vez que se ha declarado e inicializada nose puden cambiar elemento por elemento sino que se debe de modificar toda la estructura de datos, un ejemplo de estas estructurasd e datos son los `strings` y las `tuplas`, que de manera no formal y muy burda se puede decir que son las listas inmutables, al ser inmutables hay algunos elementos o métodos de las listas que no aplican para las tuplas. \n",
        "\n",
        "En las siguientes celdas se muestra la inumtabilidad de los `strings`.\n"
      ]
    },
    {
      "cell_type": "code",
      "metadata": {
        "id": "8WDpMLTEydy1",
        "outputId": "a434f18f-72bf-43ab-ffa9-921c613c1510"
      },
      "source": [
        "# Celda 19\n",
        "\n",
        "string_01 = 'Hola muchachos'\n",
        "string_01[3] = 'k'"
      ],
      "execution_count": null,
      "outputs": [
        {
          "output_type": "error",
          "ename": "TypeError",
          "evalue": "'str' object does not support item assignment",
          "traceback": [
            "\u001b[0;31m---------------------------------------------------------------------------\u001b[0m",
            "\u001b[0;31mTypeError\u001b[0m                                 Traceback (most recent call last)",
            "\u001b[0;32m<ipython-input-18-3cec6089383b>\u001b[0m in \u001b[0;36m<module>\u001b[0;34m\u001b[0m\n\u001b[1;32m      2\u001b[0m \u001b[0;34m\u001b[0m\u001b[0m\n\u001b[1;32m      3\u001b[0m \u001b[0mstring_01\u001b[0m \u001b[0;34m=\u001b[0m \u001b[0;34m'Hola muchachos'\u001b[0m\u001b[0;34m\u001b[0m\u001b[0;34m\u001b[0m\u001b[0m\n\u001b[0;32m----> 4\u001b[0;31m \u001b[0mstring_01\u001b[0m\u001b[0;34m[\u001b[0m\u001b[0;36m3\u001b[0m\u001b[0;34m]\u001b[0m \u001b[0;34m=\u001b[0m \u001b[0;34m'k'\u001b[0m\u001b[0;34m\u001b[0m\u001b[0;34m\u001b[0m\u001b[0m\n\u001b[0m",
            "\u001b[0;31mTypeError\u001b[0m: 'str' object does not support item assignment"
          ]
        }
      ]
    },
    {
      "cell_type": "code",
      "metadata": {
        "id": "ihqgu84lydzJ",
        "outputId": "f9a1b9e5-cbcf-414b-ad84-f66db7c1fb21"
      },
      "source": [
        "# Celda 20\n",
        "\n",
        "string_01 = 'Hola muchachos'\n",
        "print(string_01)\n",
        "\n",
        "string_01 = 'Python programming'\n",
        "print(string_01)"
      ],
      "execution_count": null,
      "outputs": [
        {
          "output_type": "stream",
          "text": [
            "Hola muchachos\n",
            "Python programming\n"
          ],
          "name": "stdout"
        }
      ]
    },
    {
      "cell_type": "markdown",
      "metadata": {
        "id": "zH9tYe7hydzr"
      },
      "source": [
        "# Tuplas\n",
        "Como ya se ha mencionado las tuplas son estructuras numéricas inmutables, la sintaxis para definir una tupla es muy similar a las listas, sólo que en vez de utilizar corchetes (`[ ]`), se utilizarán los paréntesis `(  )`."
      ]
    },
    {
      "cell_type": "markdown",
      "metadata": {
        "id": "J0738PPBydzv"
      },
      "source": [
        "miTupla = (valor1, valor2, valor3)"
      ]
    },
    {
      "cell_type": "code",
      "metadata": {
        "id": "uG3b-h5Rydz8",
        "outputId": "8fcc9b09-dfc9-4ffa-8b64-e05a8b51bf70"
      },
      "source": [
        "Tupla_01 = (6,'hola',8)\n",
        "print(Tupla_01)"
      ],
      "execution_count": null,
      "outputs": [
        {
          "output_type": "stream",
          "text": [
            "(6, 'hola', 8)\n"
          ],
          "name": "stdout"
        }
      ]
    },
    {
      "cell_type": "code",
      "metadata": {
        "scrolled": true,
        "id": "1_z24eyxyd0P",
        "outputId": "60df3535-badb-4e05-b658-30467df93798"
      },
      "source": [
        "Tupla_01 = (6,'hola',8)\n",
        "Tupla_01[1] = 5\n",
        "print(Tupla_01)"
      ],
      "execution_count": null,
      "outputs": [
        {
          "output_type": "error",
          "ename": "TypeError",
          "evalue": "'tuple' object does not support item assignment",
          "traceback": [
            "\u001b[0;31m---------------------------------------------------------------------------\u001b[0m",
            "\u001b[0;31mTypeError\u001b[0m                                 Traceback (most recent call last)",
            "\u001b[0;32m<ipython-input-21-f9178a093425>\u001b[0m in \u001b[0;36m<module>\u001b[0;34m\u001b[0m\n\u001b[1;32m      1\u001b[0m \u001b[0mTupla_01\u001b[0m \u001b[0;34m=\u001b[0m \u001b[0;34m(\u001b[0m\u001b[0;36m6\u001b[0m\u001b[0;34m,\u001b[0m\u001b[0;34m'hola'\u001b[0m\u001b[0;34m,\u001b[0m\u001b[0;36m8\u001b[0m\u001b[0;34m)\u001b[0m\u001b[0;34m\u001b[0m\u001b[0;34m\u001b[0m\u001b[0m\n\u001b[0;32m----> 2\u001b[0;31m \u001b[0mTupla_01\u001b[0m\u001b[0;34m[\u001b[0m\u001b[0;36m1\u001b[0m\u001b[0;34m]\u001b[0m \u001b[0;34m=\u001b[0m \u001b[0;36m5\u001b[0m\u001b[0;34m\u001b[0m\u001b[0;34m\u001b[0m\u001b[0m\n\u001b[0m\u001b[1;32m      3\u001b[0m \u001b[0mprint\u001b[0m\u001b[0;34m(\u001b[0m\u001b[0mTupla_01\u001b[0m\u001b[0;34m)\u001b[0m\u001b[0;34m\u001b[0m\u001b[0;34m\u001b[0m\u001b[0m\n",
            "\u001b[0;31mTypeError\u001b[0m: 'tuple' object does not support item assignment"
          ]
        }
      ]
    },
    {
      "cell_type": "code",
      "metadata": {
        "id": "g9za53ZSyd0i",
        "outputId": "9cdbdaed-cd9c-4528-ce41-77c88c7b69ce"
      },
      "source": [
        "Tupla_01 =(6, 8, 10)\n",
        "print(Tupla_01)\n",
        "\n",
        "Tupla_01 = (5,6)\n",
        "print(Tupla_01)"
      ],
      "execution_count": null,
      "outputs": [
        {
          "output_type": "stream",
          "text": [
            "(6, 8, 10)\n",
            "(5, 6)\n"
          ],
          "name": "stdout"
        }
      ]
    },
    {
      "cell_type": "markdown",
      "metadata": {
        "id": "ZZIgKCPqyd0u"
      },
      "source": [
        "# Ejercicios\n",
        "1.- Escribir un programa para comparar y obtener la diferencia de dos listas.\n",
        "\n",
        "\n",
        "\n"
      ]
    },
    {
      "cell_type": "code",
      "metadata": {
        "id": "FIA2euhUyd0x",
        "outputId": "614f7b78-6de5-4ca9-c30f-8daeb5c580bd",
        "colab": {
          "base_uri": "https://localhost:8080/",
          "height": 124
        }
      },
      "source": [
        "lista1 = [1, 5, 6, 78, 8, 9, 7]\n",
        "lista2 = [1, 5, 78, 9, 7, 0]\n",
        "dif = set(lista1) - set(lista2)\n",
        "dif2 = set(lista2) - set(lista1)\n",
        "\n",
        "print(lista1)\n",
        "print(lista2)\n",
        "print(\"Diferencia: \", dif)\n",
        "print(lista2)\n",
        "print(lista1)\n",
        "print(\"Diferencia: \", dif2)"
      ],
      "execution_count": null,
      "outputs": [
        {
          "output_type": "stream",
          "text": [
            "[1, 5, 6, 78, 8, 9, 7]\n",
            "[1, 5, 78, 9, 7, 0]\n",
            "Diferencia:  {8, 6}\n",
            "[1, 5, 78, 9, 7, 0]\n",
            "[1, 5, 6, 78, 8, 9, 7]\n",
            "Diferencia:  {0}\n"
          ],
          "name": "stdout"
        }
      ]
    },
    {
      "cell_type": "markdown",
      "metadata": {
        "id": "fjovfstHEP-B"
      },
      "source": [
        "\n",
        "2.- Escribir un programa que lea una lista de 10 elementos y que indique el segundo número menor de la lista.*texto en cursiva*\n",
        "\n"
      ]
    },
    {
      "cell_type": "code",
      "metadata": {
        "id": "RoyybpkZ3Xtq",
        "outputId": "9c795294-30ab-468f-aa45-ab8951f2dcda",
        "colab": {
          "base_uri": "https://localhost:8080/",
          "height": 53
        }
      },
      "source": [
        " orden=[5,2,4,2,7,9,90,-9,-7,0]\n",
        " orden=sorted(orden) #ordena lista\n",
        "print(\"Lista: \",orden)\n",
        "print(\"Segundo numero menor de la lista:\", orden[1])"
      ],
      "execution_count": null,
      "outputs": [
        {
          "output_type": "stream",
          "text": [
            "Lista:  [-9, -7, 0, 2, 2, 4, 5, 7, 9, 90]\n",
            "Segundo numero menor de la lista: -7\n"
          ],
          "name": "stdout"
        }
      ]
    },
    {
      "cell_type": "markdown",
      "metadata": {
        "id": "5NpWI6NaJPgB"
      },
      "source": [
        "3.- Escribir un programa que cuente la frecuencia de los elementos de una lista."
      ]
    },
    {
      "cell_type": "code",
      "metadata": {
        "id": "Lpy4kYp2Mrnp",
        "outputId": "ede9df0d-dd1c-4bcd-e836-973494d6a776",
        "colab": {
          "base_uri": "https://localhost:8080/",
          "height": 53
        }
      },
      "source": [
        "from collections import Counter\n",
        "\n",
        "lista3 =  [1, 1, 1, 2, 2, 3, 4, 4, 4, 7]\n",
        "cont = Counter(lista3)\n",
        "print(lista3)\n",
        "print(cont)"
      ],
      "execution_count": null,
      "outputs": [
        {
          "output_type": "stream",
          "text": [
            "[1, 1, 1, 2, 2, 3, 4, 4, 4, 7]\n",
            "Counter({1: 3, 4: 3, 2: 2, 3: 1, 7: 1})\n"
          ],
          "name": "stdout"
        }
      ]
    },
    {
      "cell_type": "markdown",
      "metadata": {
        "id": "L_LfCvkjJULD"
      },
      "source": [
        "4.- Escribir un programa que muestre los elementos que se repiten en dos listas de 20 elementos cada una, la lista debe ser llenada a través del teclado. \n"
      ]
    },
    {
      "cell_type": "code",
      "metadata": {
        "id": "zJcy7Q-9MsaP"
      },
      "source": [
        "\n",
        "\n",
        "\n"
      ],
      "execution_count": null,
      "outputs": []
    },
    {
      "cell_type": "code",
      "metadata": {
        "id": "hhlN95ZdfDPD",
        "outputId": "a1174311-9822-4522-92d1-f85f249a2ada",
        "colab": {
          "base_uri": "https://localhost:8080/",
          "height": 912
        }
      },
      "source": [
        "from collections import Counter\n",
        "\n",
        "print(\"Lista 1:\")\n",
        "lista4 = []\n",
        "for w in range(20):\n",
        "    lista4.append(int(input(\"Escribe un dato : \")))\n",
        "print(lista4)\n",
        "\n",
        "print(\"Lista 2:\")\n",
        "lista4b = []\n",
        "for w in range(20):\n",
        "    lista4b.append(int(input(\"Escribe un dato: \")))\n",
        "print(lista4b)\n",
        "\n",
        "cont4 = Counter(lista4)\n",
        "print(\"Frecuecia en la primera lista\", cont4)\n",
        "cont4b = Counter(lista4b)\n",
        "print(\"Frecuecia en la segunda lista\", cont4b)\n",
        "\n",
        "print(\"Comparacion de ambas listas\")\n",
        "comparacion=set(lista4) & set(lista4b)\n",
        "if len(comparacion) > 0 :\n",
        "    print(\"hay {} elementos coincidentes\".format(len(comparacion)))\n",
        "    print(comparacion)\n",
        "else:\n",
        "    print(\"no hay repeticiones\")\n"
      ],
      "execution_count": null,
      "outputs": [
        {
          "output_type": "stream",
          "text": [
            "Lista 1:\n",
            "Escribe un dato : 1\n",
            "Escribe un dato : 2\n",
            "Escribe un dato : 1\n",
            "Escribe un dato : 2\n",
            "Escribe un dato : 3\n",
            "Escribe un dato : 4\n",
            "Escribe un dato : 5\n",
            "Escribe un dato : 45\n",
            "Escribe un dato : 12\n",
            "Escribe un dato : 12\n",
            "Escribe un dato : 13\n",
            "Escribe un dato : 45\n",
            "Escribe un dato : 18\n",
            "Escribe un dato : 16\n",
            "Escribe un dato : 15\n",
            "Escribe un dato : 16\n",
            "Escribe un dato : 15\n",
            "Escribe un dato : 45\n",
            "Escribe un dato : 1\n",
            "Escribe un dato : 1\n",
            "[1, 2, 1, 2, 3, 4, 5, 45, 12, 12, 13, 45, 18, 16, 15, 16, 15, 45, 1, 1]\n",
            "Lista 2:\n",
            "Escribe un dato: 3\n",
            "Escribe un dato: 1\n",
            "Escribe un dato: 5\n",
            "Escribe un dato: 1\n",
            "Escribe un dato: 5\n",
            "Escribe un dato: 1\n",
            "Escribe un dato: 2\n",
            "Escribe un dato: 1\n",
            "Escribe un dato: 2\n",
            "Escribe un dato: 13\n",
            "Escribe un dato: 5\n",
            "Escribe un dato: 5\n",
            "Escribe un dato: 8\n",
            "Escribe un dato: 5\n",
            "Escribe un dato: 4\n",
            "Escribe un dato: 8\n",
            "Escribe un dato: 4\n",
            "Escribe un dato: 7\n",
            "Escribe un dato: 4\n",
            "Escribe un dato: 5\n",
            "[3, 1, 5, 1, 5, 1, 2, 1, 2, 13, 5, 5, 8, 5, 4, 8, 4, 7, 4, 5]\n",
            "Frecuecia en la primera lista Counter({1: 4, 45: 3, 2: 2, 12: 2, 16: 2, 15: 2, 3: 1, 4: 1, 5: 1, 13: 1, 18: 1})\n",
            "Frecuecia en la segunda lista Counter({5: 6, 1: 4, 4: 3, 2: 2, 8: 2, 3: 1, 13: 1, 7: 1})\n",
            "Comparacion de ambas listas\n",
            "hay 6 elementos coincidentes\n",
            "{1, 2, 3, 4, 5, 13}\n"
          ],
          "name": "stdout"
        }
      ]
    },
    {
      "cell_type": "code",
      "metadata": {
        "id": "ANYoDxDQj6j1"
      },
      "source": [
        ""
      ],
      "execution_count": null,
      "outputs": []
    }
  ]
}