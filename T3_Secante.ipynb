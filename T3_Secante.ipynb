{
  "nbformat": 4,
  "nbformat_minor": 0,
  "metadata": {
    "colab": {
      "name": "T3_Secante.ipynb",
      "provenance": [],
      "authorship_tag": "ABX9TyMgd3Wl8/zpL2Mn73ue30KF",
      "include_colab_link": true
    },
    "kernelspec": {
      "name": "python3",
      "display_name": "Python 3"
    }
  },
  "cells": [
    {
      "cell_type": "markdown",
      "metadata": {
        "id": "view-in-github",
        "colab_type": "text"
      },
      "source": [
        "<a href=\"https://colab.research.google.com/github/WendyGMB/Metodos-numericos/blob/master/T3_Secante.ipynb\" target=\"_parent\"><img src=\"https://colab.research.google.com/assets/colab-badge.svg\" alt=\"Open In Colab\"/></a>"
      ]
    },
    {
      "cell_type": "markdown",
      "metadata": {
        "id": "5uRDvx6viFNN"
      },
      "source": [
        "Metodo de la secante"
      ]
    },
    {
      "cell_type": "markdown",
      "metadata": {
        "id": "3x6eW6NSjA7O"
      },
      "source": [
        "e^-x - x   x-1=0 x0=1.0"
      ]
    },
    {
      "cell_type": "code",
      "metadata": {
        "id": "CKDS42AXi8oT"
      },
      "source": [
        "import numpy as np\n",
        "import matplotlib.pyplot as plt\n",
        "import math"
      ],
      "execution_count": 75,
      "outputs": []
    },
    {
      "cell_type": "code",
      "metadata": {
        "id": "ohX7jzJQV2iC",
        "outputId": "26ca66e7-7645-4227-bdbe-316fa9939f4f",
        "colab": {
          "base_uri": "https://localhost:8080/",
          "height": 390
        }
      },
      "source": [
        "    x1=0\n",
        "    x2=1\n",
        "    tol=0.0001\n",
        "    tabla = []\n",
        "    error = 1e3\n",
        "    n = 0\n",
        "    x3 = 0\n",
        "    while error >= tol:\n",
        "        x3 = x1 - ((x2 - x1) / (f(x2) - f(x1))) * f(x1)\n",
        "        x1 = x2\n",
        "        x2 = x3\n",
        "        error = abs(f(x3))\n",
        "        xi=x0\n",
        "        tabla.append([x1,x2,x3])\n",
        "tabla = np.array(tabla)\n",
        "n=len(tabla)\n",
        "print(\"Raiz: {:.4f}\".format(x3))\n",
        "print(\"Iteracion: {:d}\".format(n))\n",
        "f=lambda x: math.exp(-x)-x\n",
        "print(\"It: {:02d} - x0: {:.10f} - x1: {:.10f}\".format(n, x1, x2))\n",
        "secant(f,0,1,0.0001)\n",
        "np.set_printoptions(precision = 4)\n",
        "print(tabla)\n",
        "\n",
        "print('con error de: ',error)\n",
        "x = np.linspace(-2, 2, 100)\n",
        "plt.plot(tabla)\n",
        "plt.show()"
      ],
      "execution_count": 109,
      "outputs": [
        {
          "output_type": "stream",
          "text": [
            "Raiz: 0.5672\n",
            "Iteracion: 3\n",
            "It: 03 - x0: 0.5638383892 - x1: 0.5671703584\n",
            "[[1.     0.6127 0.6127]\n",
            " [0.6127 0.5638 0.5638]\n",
            " [0.5638 0.5672 0.5672]]\n",
            "con error de:  4.2419242430091764e-05\n"
          ],
          "name": "stdout"
        },
        {
          "output_type": "display_data",
          "data": {
            "image/png": "[encoded data removed]",
            "text/plain": [
              "<Figure size 432x288 with 1 Axes>"
            ]
          },
          "metadata": {
            "tags": [],
            "needs_background": "light"
          }
        }
      ]
    },
    {
      "cell_type": "code",
      "metadata": {
        "id": "olCDmrmC4Nf2"
      },
      "source": [
        "def fx(x):\n",
        "  return  -math.exp(-x)-1\n",
        "  "
      ],
      "execution_count": 16,
      "outputs": []
    }
  ]
}