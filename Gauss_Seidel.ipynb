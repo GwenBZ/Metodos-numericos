{
  "nbformat": 4,
  "nbformat_minor": 0,
  "metadata": {
    "colab": {
      "name": "Gauss_Seidel.ipynb",
      "provenance": [],
      "authorship_tag": "ABX9TyOlnCnOaDUeOBK5k6JboKoZ",
      "include_colab_link": true
    },
    "kernelspec": {
      "name": "python3",
      "display_name": "Python 3"
    }
  },
  "cells": [
    {
      "cell_type": "markdown",
      "metadata": {
        "id": "view-in-github",
        "colab_type": "text"
      },
      "source": [
        "<a href=\"https://colab.research.google.com/github/WendyGMB/Metodos-numericos/blob/master/Gauss_Seidel.ipynb\" target=\"_parent\"><img src=\"https://colab.research.google.com/assets/colab-badge.svg\" alt=\"Open In Colab\"/></a>"
      ]
    },
    {
      "cell_type": "code",
      "metadata": {
        "id": "HPj96lKWVrJz"
      },
      "source": [
        "import numpy as np\r\n",
        "import matplotlib.pyplot as plt"
      ],
      "execution_count": 1,
      "outputs": []
    },
    {
      "cell_type": "code",
      "metadata": {
        "id": "U6qK8shmKEkd",
        "colab": {
          "base_uri": "https://localhost:8080/",
          "height": 444
        },
        "outputId": "1da58d4a-5741-4baa-be36-b7f00ca3a986"
      },
      "source": [
        "#Gauss_Seidel\r\n",
        "print('Introduce el valor inicial:')\r\n",
        "valor = int(input())\r\n",
        "ite = int(input(\"Introduce el numero de iteraciones:\"))\r\n",
        "tolera=0.001\r\n",
        "contador = 0\r\n",
        "\r\n",
        "x=valor\r\n",
        "y=valor\r\n",
        "z=valor\r\n",
        "w=valor\r\n",
        "tablax1=[]\r\n",
        "tablax2=[]\r\n",
        "tablax3=[]\r\n",
        "tablax4=[]\r\n",
        "\r\n",
        "while (contador <= ite):\r\n",
        " fx=0.25 + 0.25*(y) \r\n",
        " fy=(0.25 + 0.25*(fx)+0.25*(z))\r\n",
        " fz=0.25 + 0.25*(fy)+0.25*(w)\r\n",
        " fw=0.25 + 0.25*(fz)\r\n",
        " tablax1.append([ fx ] )\r\n",
        " tablax2.append([ fy ] )\r\n",
        " tablax3.append([ fz ] )\r\n",
        " tablax4.append([ fw] )\r\n",
        "\r\n",
        " x=fx\r\n",
        " y=fy\r\n",
        " z=fz\r\n",
        " w=fw\r\n",
        " contador+=1\r\n",
        "\r\n",
        "print(['x1', str(tablax1)])\r\n",
        "print(['x2', str(tablax2)])\r\n",
        "print(['x3', str(tablax3)])\r\n",
        "print(['x4', str(tablax4)])\r\n",
        "\r\n",
        "print()\r\n",
        "plt.plot(tablax1)\r\n",
        "plt.plot(tablax2)\r\n",
        "plt.plot(tablax3)\r\n",
        "plt.plot(tablax4)\r\n",
        "\r\n",
        "plt.title(\"Gauss_Seidel \")\r\n",
        "plt.grid()\r\n",
        "plt.show()"
      ],
      "execution_count": 2,
      "outputs": [
        {
          "output_type": "stream",
          "text": [
            "Introduce el valor inicial:\n",
            "0\n",
            "Introduce el numero de iteraciones:10\n",
            "['x1', '[[0.25], [0.328125], [0.353515625], [0.36187744140625], [0.3633460998535156], [0.363588809967041], [0.3636285811662674], [0.3636350901797414], [0.3636361552635208], [0.36363632954089553], [0.3636363580574198]]']\n",
            "['x2', '[[0.3125], [0.4140625], [0.447509765625], [0.4533843994140625], [0.45435523986816406], [0.4545143246650696], [0.45454036071896553], [0.4545446210540831], [0.4545453181635821], [0.45454543222967914], [0.45454545089398835]]']\n",
            "['x3', '[[0.328125], [0.4365234375], [0.45166015625], [0.4540748596191406], [0.4544684886932373], [0.4545328617095947], [0.45454339403659105], [0.4545451173908077], [0.454545399377821], [0.4545454455185336], [0.45454545306840544]]']\n",
            "['x4', '[[0.33203125], [0.359130859375], [0.3629150390625], [0.36351871490478516], [0.3636171221733093], [0.3636332154273987], [0.36363584850914776], [0.36363627934770193], [0.36363634984445525], [0.3636363613796334], [0.36363636326710136]]']\n",
            "\n"
          ],
          "name": "stdout"
        },
        {
          "output_type": "display_data",
          "data": {
            "image/png": "[encoded data removed]",
            "text/plain": [
              "<Figure size 432x288 with 1 Axes>"
            ]
          },
          "metadata": {
            "tags": [],
            "needs_background": "light"
          }
        }
      ]
    }
  ]
}