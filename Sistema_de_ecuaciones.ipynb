{
  "nbformat": 4,
  "nbformat_minor": 0,
  "metadata": {
    "colab": {
      "name": "Sistema de ecuaciones.ipynb",
      "provenance": [],
      "collapsed_sections": [],
      "authorship_tag": "ABX9TyPmHUAXZ25LH9GHvog1L9ig",
      "include_colab_link": true
    },
    "kernelspec": {
      "name": "python3",
      "display_name": "Python 3"
    }
  },
  "cells": [
    {
      "cell_type": "markdown",
      "metadata": {
        "id": "view-in-github",
        "colab_type": "text"
      },
      "source": [
        "<a href=\"https://colab.research.google.com/github/WendyGMB/Metodos-numericos/blob/master/Sistema_de_ecuaciones.ipynb\" target=\"_parent\"><img src=\"https://colab.research.google.com/assets/colab-badge.svg\" alt=\"Open In Colab\"/></a>"
      ]
    },
    {
      "cell_type": "markdown",
      "metadata": {
        "id": "KXsMMrJ_Z6fD"
      },
      "source": [
        "\r\n",
        "**4x - y=1**\r\n",
        "\r\n",
        "**-x + 4y -z =1**\r\n",
        "\r\n",
        "**-y + 4z  - w =1**\r\n",
        "\r\n",
        "**-z + 4w =1**\r\n",
        "\r\n",
        "x=0.25 + 0.25y =0.25 \r\n",
        "\r\n",
        "y =0.25 + 0.25x + 0.25z\r\n",
        "\r\n",
        "z=0.25 + 0.25y + 0.25w\r\n",
        "\r\n",
        "w= 0.25 + 0.25z\r\n"
      ]
    },
    {
      "cell_type": "code",
      "metadata": {
        "id": "lV2jGNOCeond"
      },
      "source": [
        "import numpy as np\r\n",
        "import matplotlib.pyplot as plt"
      ],
      "execution_count": 1,
      "outputs": []
    },
    {
      "cell_type": "code",
      "metadata": {
        "colab": {
          "base_uri": "https://localhost:8080/",
          "height": 478
        },
        "id": "IrKMUNnSezNV",
        "outputId": "8131ab20-5c1b-45f4-d911-ab7b70edd994"
      },
      "source": [
        "print('Introduce el valor inicial:')\r\n",
        "valor = int(input())\r\n",
        "ite = int(input(\"Introduce el numero de iteraciones:\"))\r\n",
        "tolera=0.001\r\n",
        "contador = 0\r\n",
        "\r\n",
        "x=valor\r\n",
        "y=valor\r\n",
        "z=valor\r\n",
        "w=valor\r\n",
        "tabla=[]\r\n",
        "\r\n",
        "while (contador <= ite):\r\n",
        " fx=0.25 + 0.25*(y)\r\n",
        " fy=(0.25 + 0.25*(x)+0.25*(z))\r\n",
        " fz=0.25 + 0.25*(y)+0.25*(w)\r\n",
        " fw=0.25 + 0.25*(z)\r\n",
        " tabla.append([ fx,fy,fz,fw ] )\r\n",
        " x=fx\r\n",
        " y=fy\r\n",
        " z=fz\r\n",
        " w=fw\r\n",
        " contador+=1\r\n",
        "print(['x', 'y', 'z', 'w'])\r\n",
        "tabla=np.array(tabla)\r\n",
        "print(tabla)\r\n",
        "plt.plot(tabla)\r\n",
        "plt.title(\"Sistema de ecuaciones \")\r\n",
        "plt.grid()\r\n",
        "plt.show()\r\n"
      ],
      "execution_count": 9,
      "outputs": [
        {
          "output_type": "stream",
          "text": [
            "Introduce el valor inicial:\n",
            "0\n",
            "Introduce el numero de iteraciones:6\n",
            "['x', 'y', 'z', 'w']\n",
            "[[0.25       0.25       0.25       0.25      ]\n",
            " [0.3125     0.375      0.375      0.3125    ]\n",
            " [0.34375    0.421875   0.421875   0.34375   ]\n",
            " [0.35546875 0.44140625 0.44140625 0.35546875]\n",
            " [0.36035156 0.44921875 0.44921875 0.36035156]\n",
            " [0.36230469 0.45239258 0.45239258 0.36230469]\n",
            " [0.36309814 0.45367432 0.45367432 0.36309814]]\n"
          ],
          "name": "stdout"
        },
        {
          "output_type": "display_data",
          "data": {
            "image/png": "[encoded data removed]",
            "text/plain": [
              "<Figure size 432x288 with 1 Axes>"
            ]
          },
          "metadata": {
            "tags": [],
            "needs_background": "light"
          }
        }
      ]
    }
  ]
}