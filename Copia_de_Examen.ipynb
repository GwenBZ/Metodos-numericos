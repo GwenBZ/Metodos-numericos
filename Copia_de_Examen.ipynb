{
  "nbformat": 4,
  "nbformat_minor": 0,
  "metadata": {
    "colab": {
      "name": "Copia de Examen.ipynb",
      "provenance": [],
      "collapsed_sections": [],
      "authorship_tag": "ABX9TyORK8HFxzO4wo7mOItHweRA",
      "include_colab_link": true
    },
    "kernelspec": {
      "name": "python3",
      "display_name": "Python 3"
    }
  },
  "cells": [
    {
      "cell_type": "markdown",
      "metadata": {
        "id": "view-in-github",
        "colab_type": "text"
      },
      "source": [
        "<a href=\"https://colab.research.google.com/github/WendyGMB/Metodos-numericos/blob/master/Copia_de_Examen.ipynb\" target=\"_parent\"><img src=\"https://colab.research.google.com/assets/colab-badge.svg\" alt=\"Open In Colab\"/></a>"
      ]
    },
    {
      "cell_type": "markdown",
      "metadata": {
        "id": "jo0bFwph3zDp"
      },
      "source": [
        "2x3 − 11.7x2 + 17.7x − 5"
      ]
    },
    {
      "cell_type": "code",
      "metadata": {
        "id": "jwNPZ4KVrRa_"
      },
      "source": [
        "import numpy as np\n",
        "import matplotlib.pyplot as plt\n",
        "import math\n",
        "import pandas as pd\n"
      ],
      "execution_count": 7,
      "outputs": []
    },
    {
      "cell_type": "code",
      "metadata": {
        "id": "fqqvN3TDLMeq",
        "outputId": "213656b8-2ffa-419c-a7b2-710b85fd95a8",
        "colab": {
          "base_uri": "https://localhost:8080/",
          "height": 319
        }
      },
      "source": [
        "def f(x): return (((20*(x)**3)-(117*(x)**2)+(177*(x))-(50))/10)\n",
        "\n",
        "x0=1; x1=2\n",
        "tol=0.001; n=20\n",
        "\n",
        "for i in range(n):\n",
        " aproxdf=(f(x1)-f(x0))/(x1-x0)\n",
        " x=x0-f(x0)/aproxdf\n",
        "err= abs(x-x0)\n",
        "print(i,x0,x,err)\n",
        "if err<tol:\n",
        " print('convergencia alcanzada')\n",
        "print('numero de iteraciones',i)\n",
        "print('Raiz=' ,x)\n",
        "plt.plot(x, aproxdf)\n",
        "plt.plot(i,x0,x,err)\n",
        "plt.plot(x, f(x0))\n",
        "plt.plot(x)\n",
        "\n",
        "plt.show()"
      ],
      "execution_count": 30,
      "outputs": [
        {
          "output_type": "stream",
          "text": [
            "19 1 1.8823529411764706 0.8823529411764706\n",
            "numero de iteraciones 19\n",
            "Raiz= 1.8823529411764706\n"
          ],
          "name": "stdout"
        },
        {
          "output_type": "display_data",
          "data": {
            "image/png": "[encoded data removed]",
            "text/plain": [
              "<Figure size 432x288 with 1 Axes>"
            ]
          },
          "metadata": {
            "tags": [],
            "needs_background": "light"
          }
        }
      ]
    },
    {
      "cell_type": "code",
      "metadata": {
        "id": "y7g3KAu7LMRh"
      },
      "source": [
        ""
      ],
      "execution_count": null,
      "outputs": []
    },
    {
      "cell_type": "code",
      "metadata": {
        "colab": {
          "base_uri": "https://localhost:8080/",
          "height": 1000
        },
        "id": "LXm76DrxsD0K",
        "outputId": "eb90360c-37d9-4591-c4bd-246b4cb67b0a"
      },
      "source": [
        "#Newton \n",
        "fx = lambda x: (((20*(x)**3)-(117*(x)**2)+(177*(x))-(50))/10)\n",
        "dfx = lambda x: (((60*(x)**2)-(234*(x)+177))/10)\n",
        "print(\"Introduce el valor de x\")\n",
        "x0=int(input())\n",
        "print(\"Digite su criterio de paro (0 = criterio automatico) \")\n",
        "crite=int(input())\n",
        "if (crite == 0 ):\n",
        "  tolera = 0.001\n",
        "else:\n",
        "  tolera = crite\n",
        "\n",
        "tabla = []\n",
        "err = abs(2*tolera)\n",
        "xi = x0\n",
        "while (err>=tolera):\n",
        "    xnuevo = float (xi - fx(xi)/dfx(xi))\n",
        "    err = abs(xnuevo-xi)\n",
        "    tabla.append([xi,xnuevo,err])\n",
        "    xi =float (xnuevo)\n",
        "tabla = np.array(tabla)\n",
        "np.set_printoptions(precision = 4)\n",
        "print(['xi', 'xnuevo', 'error'])\n",
        "\n",
        "n=len(tabla)\n",
        "for i in range(0,n,1):\n",
        "    unafila = tabla[i]\n",
        "    formato = '{:.0f}'+' '+(len(unafila)-1)*'{:.3f} '\n",
        "    unafila = formato.format(*unafila)\n",
        "    print(unafila)\n",
        "print('raiz en: ', xi)\n",
        "print('con error de: ',err)\n",
        "\n",
        "plt.plot(x,f(x))\n",
        "plt.plot(x,fx(x))\n",
        "plt.plot(unafila)\n",
        "\n",
        "plt.xlabel('x')\n",
        "plt.ylabel('y')\n",
        "plt.title('Newton en f(x)')\n",
        "plt.grid()\n",
        "plt.show()"
      ],
      "execution_count": null,
      "outputs": [
        {
          "output_type": "stream",
          "text": [
            "Introduce el valor de x\n",
            "3\n",
            "Digite su criterio de paro (0 = criterio automatico) \n",
            "0\n",
            "['xi', 'xnuevo', 'error']\n",
            "3 2.906 0.094 \n",
            "3 2.812 0.094 \n",
            "3 2.721 0.091 \n",
            "3 2.635 0.086 \n",
            "3 2.555 0.080 \n",
            "3 2.482 0.073 \n",
            "2 2.416 0.066 \n",
            "2 2.357 0.059 \n",
            "2 2.304 0.053 \n",
            "2 2.257 0.047 \n",
            "2 2.216 0.041 \n",
            "2 2.179 0.037 \n",
            "2 2.147 0.032 \n",
            "2 2.119 0.028 \n",
            "2 2.094 0.025 \n",
            "2 2.072 0.022 \n",
            "2 2.053 0.019 \n",
            "2 2.037 0.017 \n",
            "2 2.022 0.015 \n",
            "2 2.010 0.013 \n",
            "2 1.998 0.011 \n",
            "2 1.989 0.010 \n",
            "2 1.980 0.008 \n",
            "2 1.973 0.007 \n",
            "2 1.966 0.006 \n",
            "2 1.961 0.006 \n",
            "2 1.956 0.005 \n",
            "2 1.952 0.004 \n",
            "2 1.948 0.004 \n",
            "2 1.945 0.003 \n",
            "2 1.942 0.003 \n",
            "2 1.939 0.003 \n",
            "2 1.937 0.002 \n",
            "2 1.935 0.002 \n",
            "2 1.933 0.002 \n",
            "2 1.932 0.001 \n",
            "2 1.931 0.001 \n",
            "2 1.929 0.001 \n",
            "2 1.929 0.001 \n",
            "raiz en:  1.9285100862753124\n",
            "con error de:  0.0009773678150397647\n"
          ],
          "name": "stdout"
        },
        {
          "output_type": "display_data",
          "data": {
            "image/png": "[encoded data removed]",
            "text/plain": [
              "<Figure size 432x288 with 1 Axes>"
            ]
          },
          "metadata": {
            "tags": [],
            "needs_background": "light"
          }
        }
      ]
    },
    {
      "cell_type": "code",
      "metadata": {
        "colab": {
          "base_uri": "https://localhost:8080/",
          "height": 408
        },
        "id": "tkUYstHlb6MR",
        "outputId": "f41841ce-3ed2-4fb6-a381-ecc9fb6f2768"
      },
      "source": [
        "   #Secante\n",
        "    x1=3\n",
        "    x2=4\n",
        "    tol=0.001\n",
        "    tabla = []\n",
        "    error = 1e3\n",
        "    n = 0\n",
        "    x3 = 0\n",
        "    while error >= tol:\n",
        "        x3 = x1 - ((x2 - x1) / (f(x2) - f(x1))) * f(x1)\n",
        "        x1 = x2\n",
        "        x2 = x3\n",
        "        error = abs(f(x3))\n",
        "        xi=x0\n",
        "        tabla.append([x1,x2,x3])\n",
        "tabla = np.array(tabla)\n",
        "n=len(tabla)\n",
        "print(\"Raiz: {:.4f}\".format(x3))\n",
        "print(\"Iteracion: {:d}\".format(n))\n",
        "f=lambda x: (((20*(x)**3)-(117*(x)**2)+(177*(x))-(50))/10)\n",
        "np.set_printoptions(precision = 4)\n",
        "\n",
        "print(tabla)\n",
        "print('con error de: ',error)\n",
        "x = np.linspace(-2, 2, 100)\n",
        "plt.plot(x, fx(x))\n",
        "plt.show()"
      ],
      "execution_count": null,
      "outputs": [
        {
          "output_type": "stream",
          "text": [
            "Raiz: 3.5631\n",
            "Iteracion: 5\n",
            "[[4.     3.3265 3.3265]\n",
            " [3.3265 3.4813 3.4813]\n",
            " [3.4813 3.5863 3.5863]\n",
            " [3.5863 3.5613 3.5613]\n",
            " [3.5613 3.5631 3.5631]]\n",
            "con error de:  0.0004011814319142104\n"
          ],
          "name": "stdout"
        },
        {
          "output_type": "display_data",
          "data": {
            "image/png": "[encoded data removed]",
            "text/plain": [
              "<Figure size 432x288 with 1 Axes>"
            ]
          },
          "metadata": {
            "tags": [],
            "needs_background": "light"
          }
        }
      ]
    }
  ]
}