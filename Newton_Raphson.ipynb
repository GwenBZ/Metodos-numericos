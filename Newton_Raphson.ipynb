{
  "nbformat": 4,
  "nbformat_minor": 0,
  "metadata": {
    "colab": {
      "name": "Segundo_Parcial_T2  .ipynb",
      "provenance": [],
      "authorship_tag": "ABX9TyNpAAf29enTiZKpme8aNDg5",
      "include_colab_link": true
    },
    "kernelspec": {
      "display_name": "Python 3",
      "name": "python3"
    }
  },
  "cells": [
    {
      "cell_type": "markdown",
      "metadata": {
        "id": "view-in-github",
        "colab_type": "text"
      },
      "source": [
        "<a href=\"https://colab.research.google.com/github/WendyGMB/Metodos-numericos/blob/master/Newton_Raphson.ipynb\" target=\"_parent\"><img src=\"https://colab.research.google.com/assets/colab-badge.svg\" alt=\"Open In Colab\"/></a>"
      ]
    },
    {
      "cell_type": "code",
      "metadata": {
        "id": "Ra7VwSFhiDUq"
      },
      "source": [
        "# Método de Newton-Raphson\n",
        "import numpy as np\n",
        "import matplotlib.pyplot as plt\n",
        "import math"
      ],
      "execution_count": 2,
      "outputs": []
    },
    {
      "cell_type": "markdown",
      "metadata": {
        "id": "2MsgFiikjrWM"
      },
      "source": [
        "*f*(x)=e^(-x) -x\n",
        "\n",
        "f´(x)=-e^(-x)-1\n",
        "\n",
        "xi+1=xi-f(xi)/f´(xi)"
      ]
    },
    {
      "cell_type": "code",
      "metadata": {
        "id": "kDuMNzWxwKj8",
        "colab": {
          "base_uri": "https://localhost:8080/",
          "height": 444
        },
        "outputId": "909f3f53-1ffc-4e4c-b67c-ec9882270bf9"
      },
      "source": [
        "import numpy as np\n",
        "import matplotlib.pyplot as plt\n",
        "import math\n",
        "fx = lambda x: math.exp(-x)-x\n",
        "dfx = lambda x: -math.exp(-x)-1\n",
        "\n",
        "print(\"Introduce el valor de x\")\n",
        "x0=int(input())\n",
        "print(\"Digite su criterio de paro (0 = criterio automatico) \")\n",
        "crite=int(input())\n",
        "if (crite == 0 ):\n",
        "  tolera = 0.001\n",
        "else:\n",
        "  tolera = crite\n",
        "\n",
        "tabla = []\n",
        "err = abs(2*tolera)\n",
        "xi = x0\n",
        "while (err>=tolera):\n",
        "    xnuevo = xi - fx(xi)/dfx(xi)\n",
        "    err = abs(xnuevo-xi)\n",
        "    tabla.append([xi,xnuevo,err])\n",
        "    xi = xnuevo\n",
        "\n",
        "tabla = np.array(tabla)\n",
        "n=len(tabla)\n",
        "\n",
        "print(['xi', 'xnuevo', 'error'])\n",
        "np.set_printoptions(precision = 4)\n",
        "print(tabla)\n",
        "print('raiz en: ', xi)\n",
        "print('con error de: ',err)\n",
        "x = np.linspace(-2, 2, 100)\n",
        "plt.plot(err)\n",
        "plt.show()"
      ],
      "execution_count": 16,
      "outputs": [
        {
          "output_type": "stream",
          "text": [
            "Introduce el valor de x\n",
            "0\n",
            "Digite su criterio de paro (0 = criterio automatico) \n",
            "0\n",
            "['xi', 'xnuevo', 'error']\n",
            "[[0.     0.5    0.5   ]\n",
            " [0.5    0.5663 0.0663]\n",
            " [0.5663 0.5671 0.0008]]\n",
            "raiz en:  0.5671431650348622\n",
            "con error de:  0.0008321618376440076\n"
          ],
          "name": "stdout"
        },
        {
          "output_type": "display_data",
          "data": {
            "image/png": "[encoded data removed]",
            "text/plain": [
              "<Figure size 432x288 with 1 Axes>"
            ]
          },
          "metadata": {
            "tags": [],
            "needs_background": "light"
          }
        }
      ]
    },
    {
      "cell_type": "markdown",
      "metadata": {
        "id": "2bfYe_GNNclX"
      },
      "source": [
        "Ejercicio clase pasada\n"
      ]
    },
    {
      "cell_type": "code",
      "metadata": {
        "id": "fKthd7ahUCHs",
        "outputId": "f606ac66-b820-42f1-f2a8-2bff1cccb9e5",
        "colab": {
          "base_uri": "https://localhost:8080/",
          "height": 424
        }
      },
      "source": [
        "\n",
        "fx = lambda x: 5/(2*x-1)\n",
        "dfx = lambda x: -(10/((2*x-1)**2))\n",
        "\n",
        "print(\"Introduce el valor de x\")\n",
        "x0=int(input())\n",
        "print(\"Digite su criterio de paro (0 = criterio automatico) \")\n",
        "crite=int(input())\n",
        "if (crite == 0 ):\n",
        "  tolera = 0.001\n",
        "else:\n",
        "  tolera = crite\n",
        "\n",
        "tabla = []\n",
        "err = abs(2*tolera)\n",
        "xi = x0\n",
        "while (err>=tolera):\n",
        "    xnuevo = xi - fx(xi)/dfx(xi)\n",
        "    err = abs(xnuevo-xi)\n",
        "    tabla.append([xi,xnuevo,err])\n",
        "    xi = xnuevo\n",
        "\n",
        "tabla = np.array(tabla)\n",
        "n=len(tabla)\n",
        "\n",
        "print(['xi', 'xnuevo', 'error'])\n",
        "np.set_printoptions(precision = 4)\n",
        "print(tabla)\n",
        "print('raiz en: ', xi)\n",
        "print('con error de: ',err)\n",
        "x = np.linspace(-2, 2, 100)\n",
        "plt.plot(x, 5/(2*x-1))\n",
        "plt.grid()\n",
        "plt.title(\"g2 \")\n",
        "plt.show()"
      ],
      "execution_count": 3,
      "outputs": [
        {
          "output_type": "stream",
          "text": [
            "Introduce el valor de x\n",
            "0\n",
            "Digite su criterio de paro (0 = criterio automatico) \n",
            "10\n",
            "['xi', 'xnuevo', 'error']\n",
            "[[ 0.  -0.5  0.5]]\n",
            "raiz en:  -0.5\n",
            "con error de:  0.5\n"
          ],
          "name": "stdout"
        },
        {
          "output_type": "display_data",
          "data": {
            "image/png": "[encoded data removed]",
            "text/plain": [
              "<Figure size 432x288 with 1 Axes>"
            ]
          },
          "metadata": {
            "tags": [],
            "needs_background": "light"
          }
        }
      ]
    },
    {
      "cell_type": "markdown",
      "metadata": {
        "id": "HXk_PmF_O1Cz"
      },
      "source": [
        "Conlcuyo que el metodo mas corto es el de Newton Raphson"
      ]
    }
  ]
}